{
 "cells": [
  {
   "cell_type": "markdown",
   "id": "cedfdd2b-3fbf-434f-ac9b-aa1cd8802acc",
   "metadata": {},
   "source": [
    "Q 1 Create a Pandas series that contains the following data : 4,8,15,16,23,42. Then , print the series."
   ]
  },
  {
   "cell_type": "code",
   "execution_count": 1,
   "id": "4fb01030-eb02-4ecc-bac9-35e1d57a60c8",
   "metadata": {},
   "outputs": [],
   "source": [
    "import pandas as pd\n"
   ]
  },
  {
   "cell_type": "code",
   "execution_count": 2,
   "id": "e4dd8765-0ece-4e9f-ada8-2611f21b6c7d",
   "metadata": {},
   "outputs": [],
   "source": [
    "data = [4,8,15,16,23,42]"
   ]
  },
  {
   "cell_type": "code",
   "execution_count": 5,
   "id": "420ffb8c-40f6-424b-bfba-62219df69859",
   "metadata": {},
   "outputs": [
    {
     "name": "stdout",
     "output_type": "stream",
     "text": [
      "0     4\n",
      "1     8\n",
      "2    15\n",
      "3    16\n",
      "4    23\n",
      "5    42\n",
      "dtype: int64\n"
     ]
    }
   ],
   "source": [
    "series = pd.Series(data)\n",
    "print(series)"
   ]
  },
  {
   "cell_type": "markdown",
   "id": "9b622f3b-e90a-44a1-a401-9ee3abebd3fc",
   "metadata": {},
   "source": [
    "Q 2 Create a variable of list type containing 10 elements in it, and apply pandas.Series function on the variable print it."
   ]
  },
  {
   "cell_type": "code",
   "execution_count": 12,
   "id": "4b783fd3-58b3-4615-919c-0f177fc6ef10",
   "metadata": {},
   "outputs": [
    {
     "name": "stdout",
     "output_type": "stream",
     "text": [
      "a     1\n",
      "b     2\n",
      "c     3\n",
      "d     4\n",
      "e     5\n",
      "f     6\n",
      "g     7\n",
      "h     8\n",
      "g     9\n",
      "h    10\n",
      "dtype: int64\n"
     ]
    }
   ],
   "source": [
    "my_list = pd.Series([1,2,3,4,5,6,7,8,9,10] , index = ['a','b','c','d','e','f','g','h','g','h'])\n",
    "print(my_list)"
   ]
  },
  {
   "cell_type": "markdown",
   "id": "91d2cf84-5bc8-4536-9868-b3fd854d0c55",
   "metadata": {},
   "source": [
    "Q 3 Create a Pandas DataFrame that contains the following data:\n",
    "then print the dataFrame."
   ]
  },
  {
   "cell_type": "code",
   "execution_count": 7,
   "id": "374d0bb1-7805-45b3-a2dd-b3c8352811b4",
   "metadata": {},
   "outputs": [],
   "source": [
    "import pandas as pd"
   ]
  },
  {
   "cell_type": "code",
   "execution_count": 22,
   "id": "213fec2b-0aff-47e4-b567-7586947055a3",
   "metadata": {},
   "outputs": [],
   "source": [
    "df = pd.DataFrame({\"Name\" : ['Alice', 'Bob' , 'Claire'],\n",
    "                   \"Age\" : [25, 30, 27],\n",
    "                   \"Gender\" : ['Female', 'Male', 'Female']},index = ['a','b','c',]\n",
    "                 )\n",
    "                 \n",
    "                                 \n"
   ]
  },
  {
   "cell_type": "code",
   "execution_count": 23,
   "id": "26f2ad0e-75f5-41cf-80f7-9115ce1c1a47",
   "metadata": {},
   "outputs": [
    {
     "data": {
      "text/html": [
       "<div>\n",
       "<style scoped>\n",
       "    .dataframe tbody tr th:only-of-type {\n",
       "        vertical-align: middle;\n",
       "    }\n",
       "\n",
       "    .dataframe tbody tr th {\n",
       "        vertical-align: top;\n",
       "    }\n",
       "\n",
       "    .dataframe thead th {\n",
       "        text-align: right;\n",
       "    }\n",
       "</style>\n",
       "<table border=\"1\" class=\"dataframe\">\n",
       "  <thead>\n",
       "    <tr style=\"text-align: right;\">\n",
       "      <th></th>\n",
       "      <th>Name</th>\n",
       "      <th>Age</th>\n",
       "      <th>Gender</th>\n",
       "    </tr>\n",
       "  </thead>\n",
       "  <tbody>\n",
       "    <tr>\n",
       "      <th>a</th>\n",
       "      <td>Alice</td>\n",
       "      <td>25</td>\n",
       "      <td>Female</td>\n",
       "    </tr>\n",
       "    <tr>\n",
       "      <th>b</th>\n",
       "      <td>Bob</td>\n",
       "      <td>30</td>\n",
       "      <td>Male</td>\n",
       "    </tr>\n",
       "    <tr>\n",
       "      <th>c</th>\n",
       "      <td>Claire</td>\n",
       "      <td>27</td>\n",
       "      <td>Female</td>\n",
       "    </tr>\n",
       "  </tbody>\n",
       "</table>\n",
       "</div>"
      ],
      "text/plain": [
       "     Name  Age  Gender\n",
       "a   Alice   25  Female\n",
       "b     Bob   30    Male\n",
       "c  Claire   27  Female"
      ]
     },
     "execution_count": 23,
     "metadata": {},
     "output_type": "execute_result"
    }
   ],
   "source": [
    "df"
   ]
  },
  {
   "cell_type": "markdown",
   "id": "4d883aec-2bc4-4773-ae05-94072c25e4e9",
   "metadata": {},
   "source": [
    "Q 4 What is 'DataFrame' in pandas and how is it different from pandas.series? Explain with an example."
   ]
  },
  {
   "cell_type": "markdown",
   "id": "93e05c8e-7b36-4737-9ba5-f64e5ba5e0b0",
   "metadata": {},
   "source": [
    "In pandas, a DataFrame is a two-dimensional tabular data structure that represents data in rows and columns, similar to a spreadsheet or a SQL table. It is one of the most commonly used data structures in pandas and allows you to work with structured data efficiently. A DataFrame can store heterogeneous data types and is very flexible for data manipulation and analysis.\n",
    "\n",
    "On the other hand, a Series is a one-dimensional labeled array, also provided by pandas. It can be thought of as a single column of data, similar to a list or a NumPy array, but with an additional index that provides labels for each element in the Series. A DataFrame is essentially a collection of Series, where each Series represents a column in the DataFrame.\n",
    "\n",
    "Here's a more detailed explanation with an example:\n",
    "\n",
    "Pandas Series Example:\n",
    "Let's say we want to create a pandas Series to represent the ages of students in a class:"
   ]
  },
  {
   "cell_type": "code",
   "execution_count": 24,
   "id": "6dd81454-b087-4533-8188-22ae3b374646",
   "metadata": {},
   "outputs": [
    {
     "name": "stdout",
     "output_type": "stream",
     "text": [
      "0    20\n",
      "1    22\n",
      "2    21\n",
      "3    19\n",
      "4    23\n",
      "dtype: int64\n"
     ]
    }
   ],
   "source": [
    "import pandas as pd\n",
    "\n",
    "# Create a pandas Series representing ages of students\n",
    "ages = pd.Series([20, 22, 21, 19, 23])\n",
    "\n",
    "print(ages)\n"
   ]
  },
  {
   "cell_type": "markdown",
   "id": "a6ef353b-8e07-4ed7-89cd-8d84cae31602",
   "metadata": {},
   "source": [
    "In this example, we created a pandas Series named ages, which stores the ages of students. The index of the Series (0, 1, 2, 3, 4) represents the default integer-based index, and the values (20, 22, 21, 19, 23) represent the age data.\n",
    "\n",
    "Pandas DataFrame Example:\n",
    "Now, let's create a pandas DataFrame that includes both the ages and names of students:"
   ]
  },
  {
   "cell_type": "code",
   "execution_count": 26,
   "id": "9c615cce-b530-4687-922d-187aa40492ab",
   "metadata": {},
   "outputs": [
    {
     "name": "stdout",
     "output_type": "stream",
     "text": [
      "      Name  Age\n",
      "0    Alice   20\n",
      "1      Bob   22\n",
      "2  Charlie   21\n",
      "3    David   19\n",
      "4      Eve   23\n"
     ]
    }
   ],
   "source": [
    "import pandas as pd\n",
    "\n",
    "# Create a dictionary with data\n",
    "data = {\n",
    "    'Name': ['Alice', 'Bob', 'Charlie', 'David', 'Eve'],\n",
    "    'Age': [20, 22, 21, 19, 23]\n",
    "}\n",
    "\n",
    "# Create a pandas DataFrame\n",
    "df = pd.DataFrame(data)\n",
    "\n",
    "print(df)\n"
   ]
  },
  {
   "cell_type": "markdown",
   "id": "b350db75-0330-4710-b534-af22bdb6658d",
   "metadata": {},
   "source": [
    "In this example, we created a pandas DataFrame named df. It consists of two columns: 'Name' and 'Age'. The 'Name' column contains the names of students, and the 'Age' column contains their respective ages. The index (0, 1, 2, 3, 4) again represents the default integer-based index.\n",
    "\n",
    "In summary, a pandas Series is a one-dimensional labeled array, whereas a pandas DataFrame is a two-dimensional tabular data structure consisting of multiple Series, each representing a column. A DataFrame is suitable for representing and analyzing structured data with multiple attributes, whereas a Series is better for handling single columns or one-dimensional data."
   ]
  },
  {
   "cell_type": "markdown",
   "id": "4ae64d7c-e41f-4723-80fb-84286032c1f4",
   "metadata": {},
   "source": [
    "Q 5 What are some common functions you can use to manipulate data in a pandas DataFrame? can you give an example of when you might use one of these functions?"
   ]
  },
  {
   "cell_type": "markdown",
   "id": "6797197d-6816-461e-8bd1-ad561abd2ccd",
   "metadata": {},
   "source": [
    "Ans - Pandas provides a wide range of functions to manipulate data in a DataFrame. Here are some common functions:\n",
    "\n",
    "Filtering Data: You can use functions like loc and iloc to filter rows and columns based on certain conditions.\n",
    "Example:"
   ]
  },
  {
   "cell_type": "code",
   "execution_count": 34,
   "id": "f9177236-01fc-426c-96f6-6542ef9c883c",
   "metadata": {},
   "outputs": [
    {
     "name": "stdout",
     "output_type": "stream",
     "text": [
      "      Name  Age  Score\n",
      "1      Bob   22     90\n",
      "2  Charlie   21     78\n",
      "4      Eve   23     80\n"
     ]
    }
   ],
   "source": [
    "import pandas as pd\n",
    "\n",
    "# Create a DataFrame\n",
    "data = {\n",
    "    'Name': ['Alice', 'Bob', 'Charlie', 'David', 'Eve'],\n",
    "    'Age': [20, 22, 21, 19, 23],\n",
    "    'Score': [85, 90, 78, 92, 80]\n",
    "}\n",
    "df = pd.DataFrame(data)\n",
    "\n",
    "# Filter rows with Age greater than 20\n",
    "filtered_df = df.loc[df['Age'] > 20]\n",
    "print(filtered_df)\n"
   ]
  },
  {
   "cell_type": "markdown",
   "id": "20cef2c6-0ccf-4122-91fd-920925560ba5",
   "metadata": {},
   "source": [
    "Sorting Data: You can use the sort_values function to sort the DataFrame based on one or more columns.\n",
    "Example:"
   ]
  },
  {
   "cell_type": "code",
   "execution_count": 35,
   "id": "666821f4-6cc9-43a5-891a-d0462353efcb",
   "metadata": {},
   "outputs": [
    {
     "name": "stdout",
     "output_type": "stream",
     "text": [
      "      Name  Age  Score\n",
      "4      Eve   23     80\n",
      "1      Bob   22     90\n",
      "2  Charlie   21     78\n",
      "0    Alice   20     85\n",
      "3    David   19     92\n"
     ]
    }
   ],
   "source": [
    "import pandas as pd\n",
    "\n",
    "# Assuming df is the DataFrame from the previous example\n",
    "\n",
    "# Sort the DataFrame based on the 'Age' column in descending order\n",
    "sorted_df = df.sort_values(by='Age', ascending=False)\n",
    "print(sorted_df)\n"
   ]
  },
  {
   "cell_type": "markdown",
   "id": "26373949-564d-4e82-91b2-9ddb40410db7",
   "metadata": {},
   "source": [
    "Grouping Data: You can use groupby to group data based on certain columns and perform aggregate functions on each group.\n",
    "Example:"
   ]
  },
  {
   "cell_type": "code",
   "execution_count": 36,
   "id": "b6120679-1c59-4a60-9211-66a76fab87f7",
   "metadata": {},
   "outputs": [
    {
     "name": "stdout",
     "output_type": "stream",
     "text": [
      "Age\n",
      "19    92.0\n",
      "20    85.0\n",
      "21    78.0\n",
      "22    90.0\n",
      "23    80.0\n",
      "Name: Score, dtype: float64\n"
     ]
    }
   ],
   "source": [
    "import pandas as pd\n",
    "\n",
    "# Assuming df is the DataFrame from the previous example\n",
    "\n",
    "# Group data by 'Age' and calculate the average 'Score' for each age group\n",
    "grouped_df = df.groupby('Age')['Score'].mean()\n",
    "print(grouped_df)\n"
   ]
  },
  {
   "cell_type": "markdown",
   "id": "a93c68d9-4447-43ec-b57d-beb86ead94f9",
   "metadata": {},
   "source": [
    "Adding/Removing Columns: You can add new columns or drop existing ones using DataFrame assignment or the drop function.\n",
    "Example:"
   ]
  },
  {
   "cell_type": "code",
   "execution_count": 37,
   "id": "180e6c21-ac39-4a90-9939-3dbdeee1366d",
   "metadata": {},
   "outputs": [
    {
     "name": "stdout",
     "output_type": "stream",
     "text": [
      "      Name  Age Grade\n",
      "0    Alice   20     A\n",
      "1      Bob   22     B\n",
      "2  Charlie   21     C\n",
      "3    David   19     A\n",
      "4      Eve   23     B\n"
     ]
    }
   ],
   "source": [
    "import pandas as pd\n",
    "\n",
    "# Assuming df is the DataFrame from the previous example\n",
    "\n",
    "# Add a new column 'Grade'\n",
    "df['Grade'] = ['A', 'B', 'C', 'A', 'B']\n",
    "\n",
    "# Remove the 'Score' column\n",
    "df = df.drop(columns='Score')\n",
    "print(df)\n"
   ]
  },
  {
   "cell_type": "markdown",
   "id": "b6f103a1-c2cd-40b5-93f8-5b9a81474c08",
   "metadata": {},
   "source": [
    "These are just a few examples of the many functions available in pandas to manipulate data in a DataFrame. Depending on your data analysis needs, pandas provides numerous other functions for data cleaning, merging, reshaping, and more."
   ]
  },
  {
   "cell_type": "markdown",
   "id": "c24ec3c4-21d4-4f47-a14d-e03ef5f41e00",
   "metadata": {},
   "source": [
    "Q 6 Which of the following is mutable in nature Series, DataFrame, Panel?"
   ]
  },
  {
   "cell_type": "markdown",
   "id": "b9ea742b-5283-4616-8a51-48ebfca916dc",
   "metadata": {},
   "source": [
    "Ans - Among the options provided (Series, DataFrame, Panel), both Series and DataFrame are mutable in nature, whereas Panel is not mutable.\n",
    "\n",
    "(1) Series: A Series is mutable, meaning you can modify its values, reassign values, or add/remove elements after creation.\n",
    "\n",
    "(2) DataFrame: A DataFrame is also mutable. You can change the values in its cells, add or remove rows/columns, and perform various operations to modify the data it contains.\n",
    "\n",
    "(3) Panel: Panel was a data structure in earlier versions of pandas, intended to handle three-dimensional data. However, it has been deprecated since pandas version 0.25.0, and you should avoid using it in favor of other data structures like Series and DataFrame. Nevertheless, I'll mention that Panel was mutable, just like DataFrame.\n",
    "\n",
    "To summarize, both Series and DataFrame are mutable data structures in pandas, while Panel, though deprecated, was also mutable when it was still part of pandas.\n",
    "\n",
    "\n",
    "\n",
    "\n"
   ]
  },
  {
   "cell_type": "markdown",
   "id": "ea2a05f8-b44d-4927-bc2a-18f10696f5cd",
   "metadata": {},
   "source": [
    "Q 7 Create a DataFrame using multiple Series. Explain with an example."
   ]
  },
  {
   "cell_type": "markdown",
   "id": "18e61bf0-9c58-42e5-97ef-04db7fe81e43",
   "metadata": {},
   "source": [
    "Ans - To create a DataFrame using multiple Series, you can use the pd.DataFrame() constructor in pandas. Each Series will represent a column in the DataFrame. The length of all the Series should be the same, as they will be aligned based on their index to form the DataFrame. Here's an example:"
   ]
  },
  {
   "cell_type": "code",
   "execution_count": 38,
   "id": "93959c0c-2588-45d0-a435-443fe32d9467",
   "metadata": {},
   "outputs": [
    {
     "name": "stdout",
     "output_type": "stream",
     "text": [
      "      Name  Age  Score\n",
      "0    Alice   20     85\n",
      "1      Bob   22     90\n",
      "2  Charlie   21     78\n",
      "3    David   19     92\n",
      "4      Eve   23     80\n"
     ]
    }
   ],
   "source": [
    "import pandas as pd\n",
    "\n",
    "# Creating multiple Series\n",
    "names = pd.Series(['Alice', 'Bob', 'Charlie', 'David', 'Eve'])\n",
    "ages = pd.Series([20, 22, 21, 19, 23])\n",
    "scores = pd.Series([85, 90, 78, 92, 80])\n",
    "\n",
    "# Combining the Series into a DataFrame\n",
    "df = pd.DataFrame({'Name': names, 'Age': ages, 'Score': scores})\n",
    "\n",
    "# Print the DataFrame\n",
    "print(df)\n"
   ]
  },
  {
   "cell_type": "code",
   "execution_count": null,
   "id": "6336f40e-fc45-4672-997d-ac809c1d675b",
   "metadata": {},
   "outputs": [],
   "source": []
  }
 ],
 "metadata": {
  "kernelspec": {
   "display_name": "Python 3 (ipykernel)",
   "language": "python",
   "name": "python3"
  },
  "language_info": {
   "codemirror_mode": {
    "name": "ipython",
    "version": 3
   },
   "file_extension": ".py",
   "mimetype": "text/x-python",
   "name": "python",
   "nbconvert_exporter": "python",
   "pygments_lexer": "ipython3",
   "version": "3.10.8"
  }
 },
 "nbformat": 4,
 "nbformat_minor": 5
}
